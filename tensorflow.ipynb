{
 "cells": [
  {
   "cell_type": "code",
   "execution_count": 1,
   "metadata": {},
   "outputs": [],
   "source": [
    "import numpy as np\n",
    "import matplotlib.pyplot as plt\n",
    "import tensorflow as tf"
   ]
  },
  {
   "cell_type": "code",
   "execution_count": 2,
   "metadata": {},
   "outputs": [],
   "source": [
    "observations = 100000\n",
    "\n",
    "xs = np.random.uniform(-10,10, (observations, 1))\n",
    "zs = np.random.uniform(-10,10, (observations, 1))\n",
    "\n",
    "generated_inputs = np.column_stack((xs,zs))\n",
    "\n",
    "noise = np.random.uniform(-1,1, (observations, 1))\n",
    "\n",
    "generated_targets = 2*xs -3*zs + 5 + noise\n",
    "\n",
    "np.savez('TF_intro', inputs = generated_inputs, targets = generated_targets)"
   ]
  },
  {
   "cell_type": "code",
   "execution_count": 3,
   "metadata": {},
   "outputs": [],
   "source": [
    "input_size = 2\n",
    "output_size = 1"
   ]
  },
  {
   "cell_type": "code",
   "execution_count": 4,
   "metadata": {},
   "outputs": [
    {
     "name": "stdout",
     "output_type": "stream",
     "text": [
      "WARNING:tensorflow:From C:\\Users\\emf-a\\AppData\\Local\\Continuum\\anaconda3\\lib\\site-packages\\tensorflow\\python\\framework\\op_def_library.py:263: colocate_with (from tensorflow.python.framework.ops) is deprecated and will be removed in a future version.\n",
      "Instructions for updating:\n",
      "Colocations handled automatically by placer.\n"
     ]
    }
   ],
   "source": [
    "inputs = tf.placeholder(tf.float32, [None, input_size])\n",
    "targets = tf.placeholder(tf.float32, [None, output_size])\n",
    "\n",
    "weights = tf.Variable(tf.random_uniform([input_size, output_size],  minval = -0.1, maxval = 0.1))\n",
    "biases = tf.Variable(tf.random_uniform([output_size], minval = -0.1, maxval = 0.1))\n",
    "\n",
    "outputs = tf.matmul(inputs, weights) + biases"
   ]
  },
  {
   "cell_type": "markdown",
   "metadata": {},
   "source": [
    "Choosing the objective function and the optimization method"
   ]
  },
  {
   "cell_type": "code",
   "execution_count": 5,
   "metadata": {},
   "outputs": [
    {
     "name": "stdout",
     "output_type": "stream",
     "text": [
      "WARNING:tensorflow:From C:\\Users\\emf-a\\AppData\\Local\\Continuum\\anaconda3\\lib\\site-packages\\tensorflow\\python\\ops\\losses\\losses_impl.py:448: to_float (from tensorflow.python.ops.math_ops) is deprecated and will be removed in a future version.\n",
      "Instructions for updating:\n",
      "Use tf.cast instead.\n"
     ]
    }
   ],
   "source": [
    "mean_loss = tf.losses.huber_loss(labels = targets, predictions = outputs)\n",
    "\n",
    "optimize = tf.train.GradientDescentOptimizer(learning_rate = 0.05).minimize(mean_loss)"
   ]
  },
  {
   "cell_type": "markdown",
   "metadata": {},
   "source": [
    "Prepare for execution"
   ]
  },
  {
   "cell_type": "code",
   "execution_count": 6,
   "metadata": {},
   "outputs": [],
   "source": [
    "sess = tf.InteractiveSession()"
   ]
  },
  {
   "cell_type": "code",
   "execution_count": 7,
   "metadata": {},
   "outputs": [],
   "source": [
    "initializer = tf.global_variables_initializer()"
   ]
  },
  {
   "cell_type": "code",
   "execution_count": 8,
   "metadata": {},
   "outputs": [],
   "source": [
    "sess.run(initializer)"
   ]
  },
  {
   "cell_type": "code",
   "execution_count": 9,
   "metadata": {},
   "outputs": [],
   "source": [
    "training_data = np.load('TF_intro.npz')"
   ]
  },
  {
   "cell_type": "markdown",
   "metadata": {},
   "source": [
    "### Learning"
   ]
  },
  {
   "cell_type": "code",
   "execution_count": 10,
   "metadata": {},
   "outputs": [
    {
     "name": "stdout",
     "output_type": "stream",
     "text": [
      "17.661373\n",
      "16.553305\n",
      "15.455306\n",
      "14.369127\n",
      "13.296965\n",
      "12.241591\n",
      "11.206536\n",
      "10.19664\n",
      "9.218211\n",
      "8.279146\n",
      "7.390026\n",
      "6.5664725\n",
      "5.8308463\n",
      "5.211394\n",
      "4.736365\n",
      "4.41943\n",
      "4.2385774\n",
      "4.137947\n",
      "4.0695486\n",
      "4.0122232\n",
      "3.959015\n",
      "3.9075575\n",
      "3.856932\n",
      "3.8067396\n",
      "3.756788\n",
      "3.7069807\n",
      "3.6572618\n",
      "3.6076021\n",
      "3.557981\n",
      "3.5083876\n",
      "3.4588146\n",
      "3.4092574\n",
      "3.3597126\n",
      "3.3101788\n",
      "3.2606547\n",
      "3.2111387\n",
      "3.161633\n",
      "3.1121354\n",
      "3.0626469\n",
      "3.0131688\n",
      "2.9637012\n",
      "2.9142454\n",
      "2.8648026\n",
      "2.8153732\n",
      "2.7659593\n",
      "2.7165625\n",
      "2.6671832\n",
      "2.617823\n",
      "2.5684834\n",
      "2.5191655\n",
      "2.4698715\n",
      "2.4206007\n",
      "2.3713546\n",
      "2.3221328\n",
      "2.2729352\n",
      "2.22376\n",
      "2.174609\n",
      "2.125481\n",
      "2.076374\n",
      "2.0272887\n",
      "1.9782244\n",
      "1.9291792\n",
      "1.8801545\n",
      "1.8311497\n",
      "1.7821659\n",
      "1.733204\n",
      "1.6842656\n",
      "1.6353528\n",
      "1.5864705\n",
      "1.5376222\n",
      "1.4888154\n",
      "1.4400599\n",
      "1.3913691\n",
      "1.3427622\n",
      "1.2942716\n",
      "1.2459493\n",
      "1.1978948\n",
      "1.150292\n",
      "1.103401\n",
      "1.0574303\n",
      "1.0125144\n",
      "0.96873564\n",
      "0.9261494\n",
      "0.8848038\n",
      "0.8447494\n",
      "0.8060314\n",
      "0.7686878\n",
      "0.73274875\n",
      "0.69823664\n",
      "0.6651652\n",
      "0.63353944\n",
      "0.6033594\n",
      "0.57461804\n",
      "0.5473009\n",
      "0.52138627\n",
      "0.4968469\n",
      "0.47365284\n",
      "0.45176917\n",
      "0.43115735\n",
      "0.41177556\n"
     ]
    }
   ],
   "source": [
    "for i in range (100):\n",
    "    _,curr_loss = sess.run([optimize, mean_loss], feed_dict = {inputs:training_data['inputs'], targets : training_data['targets']})\n",
    "    \n",
    "    print(curr_loss)"
   ]
  },
  {
   "cell_type": "code",
   "execution_count": 11,
   "metadata": {},
   "outputs": [
    {
     "data": {
      "image/png": "[encoded data removed]",
      "text/plain": [
       "<Figure size 432x288 with 1 Axes>"
      ]
     },
     "metadata": {
      "needs_background": "light"
     },
     "output_type": "display_data"
    }
   ],
   "source": [
    "out = sess.run([outputs], feed_dict = {inputs:training_data['inputs']})\n",
    "plt.plot(np.squeeze(out), np.squeeze(training_data['targets']))\n",
    "plt.show()"
   ]
  },
  {
   "cell_type": "code",
   "execution_count": null,
   "metadata": {},
   "outputs": [],
   "source": []
  },
  {
   "cell_type": "code",
   "execution_count": null,
   "metadata": {},
   "outputs": [],
   "source": []
  }
 ],
 "metadata": {
  "kernelspec": {
   "display_name": "Python 3",
   "language": "python",
   "name": "python3"
  },
  "language_info": {
   "codemirror_mode": {
    "name": "ipython",
    "version": 3
   },
   "file_extension": ".py",
   "mimetype": "text/x-python",
   "name": "python",
   "nbconvert_exporter": "python",
   "pygments_lexer": "ipython3",
   "version": "3.7.3"
  }
 },
 "nbformat": 4,
 "nbformat_minor": 2
}
