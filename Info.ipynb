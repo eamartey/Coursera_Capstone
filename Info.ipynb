{
 "cells": [
  {
   "cell_type": "markdown",
   "metadata": {},
   "source": [
    "### The data to be used will be from Foursquare, and it'll center around her home address in Algonquin, which is where she wants to stay in at all cost. I'll look at the latitude and longitude of data, the radius of the search area to the home address. I'll also pay particular attention to the details in the data can set my client's business apart. For example, if it shows that they don't have a url for their shop, we'll set one up for our store, etc. I'll also include cake businesses form 2 other cities and look at them to see what advantage she can gain from that: if it'll be better to have her business there based on the number of cake businesses they have there, etc. It'll all be seenSo it'll be important to look at how many cake businesses that are in and around Algonquin to give a good picture of what to expect if she'll like to set up this business there and to see what also could set her business apart from the others "
   ]
  },
  {
   "cell_type": "code",
   "execution_count": null,
   "metadata": {},
   "outputs": [],
   "source": []
  }
 ],
 "metadata": {
  "kernelspec": {
   "display_name": "Python 3",
   "language": "python",
   "name": "python3"
  },
  "language_info": {
   "codemirror_mode": {
    "name": "ipython",
    "version": 3
   },
   "file_extension": ".py",
   "mimetype": "text/x-python",
   "name": "python",
   "nbconvert_exporter": "python",
   "pygments_lexer": "ipython3",
   "version": "3.7.3"
  }
 },
 "nbformat": 4,
 "nbformat_minor": 2
}
