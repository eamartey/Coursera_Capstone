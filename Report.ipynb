{
 "cells": [
  {
   "cell_type": "markdown",
   "metadata": {},
   "source": [
    "# Cake making business\n",
    "\n",
    "### Introduction\n",
    "\n",
    "#### I was approached by a lady who wants to start a cake making business: wedding cakes, cup cakes, cakes for all occasions, etc, and would like to know if it'll be a wise idea to start one in an area where she's moving to. She's lived in New York for 20 years and is moving to Algonquin, IL, with her husband. She wants the business to stay close to her home as possible because she doesn't want to drive far to work. I told her I'd look into it and let her know my findings.\n",
    "\n",
    "\n",
    "### Background \n",
    "\n",
    "#### The starting point of my search will be the address of her family's home and will look to see how many cake making businesses there are in the area. In addition to that I widen the search to 2 additional surrounding cities, so she can know how the competition stacks up there also. I don't want my client to have a narrow picture of what she's going into. I want her to have a broad look at the situation and have a great picture of what is best for her business. My search will also include other things that can set her business apart like if the other companies have delivery systems, if they have tea parties or host other occasions within their businesses, anything that will be able to give her an edge.\n",
    "\n",
    "\n",
    "### Target Audience\n",
    "\n",
    "#### This business is for a specific client who asked me to look through the Algonquin neighborhood in Illinois, USA, to see if it'll be an ideal place to have a cake making business. She has family in that area and would love to stay as close to them as possible.\n",
    "\n",
    "\n",
    "#### Search area address is 5514 Chantilly cir, Algonquin, IL\n",
    "\n",
    "\n",
    "### Data to be used\n",
    "\n",
    "#### The data will be from Foursquare, and it'll center around her home address in Algonquin. I'll look at the latitude and longitude of data, the radius of the search area to the home address will help reveal how many cake shops we have within that area. I'll also pay particular attention to the details in the data that can set my client's business apart.  "
   ]
  },
  {
   "cell_type": "markdown",
   "metadata": {},
   "source": [
    "# ***Methodology***"
   ]
  },
  {
   "cell_type": "markdown",
   "metadata": {},
   "source": [
    "#### I imported the necessary libraries and the credetials needed to analyze the data. I used the address the client gave me to look for shops in the area. The query was focused on cake shops within a certain radius around the house. Once I had my focus for the search, I pulled the data from Foursquare and started cleaning it. The data is in the json format, so I changed it into a pandas dataframe to begin analyzing it. Once it was converted to a dataframe, I pulled the location: latitude and longitude, the names of the shops, location distance and anything that I thought could give her an edge competitively once she sets up her business. Once that was done, I looked at it to see what was in it. It wasn't a huge data, so further analysis wasn't warranted. I drew my conclusions from what I saw. Below are the results and discussion of the results.\n"
   ]
  },
  {
   "cell_type": "markdown",
   "metadata": {},
   "source": [
    "## Results\n",
    "\n",
    "#### It looks like there are 2 cake businesses in Algonquin: none of them with a delivery url. The surrounding cities also don't have a lot of cake making businesses. Crystal Lake, which has 2 shops has one of them with a delivery url"
   ]
  },
  {
   "cell_type": "markdown",
   "metadata": {},
   "source": [
    "## Discussion\n",
    "\n",
    "#### Since there are only 2 cake making businesses in Algonquin, it will not be crowded for her to set up shop there. The population in Algonquin in a littlve over 30,000 people, so another cake making business will be fine. None of them have delivery urls, so it's something that she can have that'll make her stand out. \n",
    "#### The next closest city is Crystal Lake, which has 2 cake shops also, and one of them has a delivery url, so she won't be that competitive over there. Consequestly, it looks like Algonquin is the location for her to have a more competitive edge. There's no mention of whether or not a customer could sit in and eat their cakes and have beverages like coffee, with it, so it's something that she could look into further once she gets into Algonquin or if it's even and idea she'd like to play with. Maybe not just having a cake making business, but something where everyday people can come and patronize the goods will work well.  That's something she can look into further on her own or with her business advisor, but as far as location goes, she looks like she's in good standing."
   ]
  },
  {
   "cell_type": "markdown",
   "metadata": {},
   "source": [
    "## Conclusion\n",
    "\n",
    "### She can set up a cake shop in Algonquin, IL.\n"
   ]
  },
  {
   "cell_type": "code",
   "execution_count": null,
   "metadata": {},
   "outputs": [],
   "source": []
  }
 ],
 "metadata": {
  "kernelspec": {
   "display_name": "Python 3",
   "language": "python",
   "name": "python3"
  },
  "language_info": {
   "codemirror_mode": {
    "name": "ipython",
    "version": 3
   },
   "file_extension": ".py",
   "mimetype": "text/x-python",
   "name": "python",
   "nbconvert_exporter": "python",
   "pygments_lexer": "ipython3",
   "version": "3.7.3"
  }
 },
 "nbformat": 4,
 "nbformat_minor": 2
}
