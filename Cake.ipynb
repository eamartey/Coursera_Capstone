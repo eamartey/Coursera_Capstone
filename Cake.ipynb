{
 "cells": [
  {
   "cell_type": "markdown",
   "metadata": {},
   "source": [
    "# Cake making business\n",
    "\n",
    "\n",
    "### Target Audience\n",
    "\n",
    "#### This business is for a specific client who asked me to look through the Algonquin neighborhood in Illinois, USA, to see if it'll be an ideal place to have a cake making business. She has family in that area and would love to stay as close to them as possible.\n",
    "\n",
    "\n",
    "### Background \n",
    "\n",
    "#### So the starting point of my search will be the address of her family's home and look to see how many cake making businesses we have in the area. I explain to her my search will not only be limited to the Algonquin area because I want to give her the best picture possible for her business. I widen the search to 2 additional surrounding cities, so she can see how the competition stacks up there also. My search will also include other things that can set her business apart like if the other companies have delivery systems, if they have tea parties or host other occasions within their business.\n",
    "\n",
    "#### Search area address is 5514 Chantilly cir, Algonquin, IL"
   ]
  },
  {
   "cell_type": "code",
   "execution_count": null,
   "metadata": {},
   "outputs": [],
   "source": []
  }
 ],
 "metadata": {
  "kernelspec": {
   "display_name": "Python 3",
   "language": "python",
   "name": "python3"
  },
  "language_info": {
   "codemirror_mode": {
    "name": "ipython",
    "version": 3
   },
   "file_extension": ".py",
   "mimetype": "text/x-python",
   "name": "python",
   "nbconvert_exporter": "python",
   "pygments_lexer": "ipython3",
   "version": "3.7.3"
  }
 },
 "nbformat": 4,
 "nbformat_minor": 2
}
