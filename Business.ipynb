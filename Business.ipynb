{
 "cells": [
  {
   "cell_type": "markdown",
   "metadata": {},
   "source": [
    "# Cake making business\n",
    "### This business is for an individual who just moved into the Algonquin neighborhood and would like to establish a cake making business. She would love to make all kinds of cakes: cupcakes, bundt cakes, wedding cakes, etc, so she wants to know if there is a lot of competition, if any, in the area. The Algonquin area is of special interest to her, since she wants to be close to family, so she wants to know if it'll at all be possible to open this business here.  The idea of leveraging Foursquare to help with this is quite appropriate."
   ]
  },
  {
   "cell_type": "code",
   "execution_count": null,
   "metadata": {},
   "outputs": [],
   "source": []
  }
 ],
 "metadata": {
  "kernelspec": {
   "display_name": "Python 3",
   "language": "python",
   "name": "python3"
  },
  "language_info": {
   "codemirror_mode": {
    "name": "ipython",
    "version": 3
   },
   "file_extension": ".py",
   "mimetype": "text/x-python",
   "name": "python",
   "nbconvert_exporter": "python",
   "pygments_lexer": "ipython3",
   "version": "3.7.3"
  }
 },
 "nbformat": 4,
 "nbformat_minor": 2
}
